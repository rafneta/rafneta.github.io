{
 "cells": [
  {
   "cell_type": "markdown",
   "metadata": {},
   "source": [
    "# Programa para escribir archivos de libro en html"
   ]
  },
  {
   "cell_type": "code",
   "execution_count": 4,
   "metadata": {},
   "outputs": [
    {
     "name": "stdout",
     "output_type": "stream",
     "text": [
      "hola\n"
     ]
    }
   ],
   "source": [
    "identificador8=open(\"ConTieCon.html\",\"r\")\n",
    "identificador12=open(\"SeFouCon.html\",\"r\")\n",
    "identificador14=open(\"TransFouCon.html\",\"r\")\n",
    "identificador16=open(\"TransLapla.html\",\"r\")\n",
    "identificador17=open(\"TransZ.html\",\"r\")\n",
    "\n",
    "\n",
    "\n",
    "\n",
    "modificar=open(\"ci.html\",\"r\")\n",
    "nuevo=open(\"nuevo.html\",\"w\")\n",
    "\n",
    "\n",
    "adjuntar8=identificador8.read()\n",
    "adjuntar12=identificador12.read()\n",
    "adjuntar14=identificador14.read()\n",
    "adjuntar16=identificador16.read()\n",
    "adjuntar17=identificador17.read()\n",
    "\n",
    "\n",
    "\n",
    "\n",
    "\n",
    "for line in modificar:\n",
    "    valor=line.split()\n",
    "        \n",
    "    if \"identificador8\" in valor:\n",
    "        nuevo.write(adjuntar8)\n",
    "        continue\n",
    "    if \"identificador12\" in valor:\n",
    "        nuevo.write(adjuntar12)\n",
    "        continue\n",
    "\n",
    "    if \"identificador14\" in valor:\n",
    "        nuevo.write(adjuntar14)\n",
    "        continue\n",
    "    if \"identificador16\" in valor:\n",
    "        nuevo.write(adjuntar16)\n",
    "        continue\n",
    "    if \"identificador17\" in valor:\n",
    "        nuevo.write(adjuntar17)\n",
    "        continue\n",
    "    \n",
    "    nuevo.write(line)\n",
    "        \n",
    "\n",
    "identificador8.close()\n",
    "identificador12.close()\n",
    "identificador14.close()\n",
    "identificador16.close()\n",
    "identificador17.close()\n",
    "\n",
    "modificar.close()\n",
    "nuevo.close()\n",
    "print \"hola\""
   ]
  },
  {
   "cell_type": "code",
   "execution_count": null,
   "metadata": {},
   "outputs": [],
   "source": []
  },
  {
   "cell_type": "code",
   "execution_count": null,
   "metadata": {
    "collapsed": true
   },
   "outputs": [],
   "source": []
  }
 ],
 "metadata": {
  "anaconda-cloud": {},
  "kernelspec": {
   "display_name": "Python 2",
   "language": "python",
   "name": "python2"
  },
  "language_info": {
   "codemirror_mode": {
    "name": "ipython",
    "version": 2
   },
   "file_extension": ".py",
   "mimetype": "text/x-python",
   "name": "python",
   "nbconvert_exporter": "python",
   "pygments_lexer": "ipython2",
   "version": "2.7.15"
  }
 },
 "nbformat": 4,
 "nbformat_minor": 2
}
