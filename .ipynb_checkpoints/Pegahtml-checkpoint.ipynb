{
 "cells": [
  {
   "cell_type": "markdown",
   "metadata": {},
   "source": [
    "# Programa para escribir archivos de libro en html"
   ]
  },
  {
   "cell_type": "code",
   "execution_count": 5,
   "metadata": {
    "collapsed": true
   },
   "outputs": [],
   "source": [
    "identificador1=open(\"prefacio.html\",\"r\")\n",
    "identificador2=open(\"DefyClas.html\",\"r\")\n",
    "identificador3=open(\"SeTiemCont.html\",\"r\")\n",
    "modificar=open(\"ci.html\",\"r\")\n",
    "nuevo=open(\"nuevo.html\",\"w\")\n",
    "\n",
    "\n",
    "adjuntar1=identificador1.read()\n",
    "adjuntar2=identificador2.read()\n",
    "adjuntar3=identificador3.read()\n",
    "\n",
    "for line in modificar:\n",
    "    valor=line.split()\n",
    "    if \"identificador1\" in valor:\n",
    "        nuevo.write(adjuntar1)\n",
    "        continue\n",
    "        \n",
    "    if \"identificador2\" in valor:\n",
    "        nuevo.write(adjuntar2)\n",
    "        continue\n",
    "        \n",
    "    if \"identificador3\" in valor:\n",
    "        nuevo.write(adjuntar3)\n",
    "        continue\n",
    "    \n",
    "    nuevo.write(line)\n",
    "        \n",
    "\n",
    "identificador1.close()\n",
    "identificador2.close()\n",
    "identificador3.close()\n",
    "modificar.close()\n",
    "nuevo.close()"
   ]
  },
  {
   "cell_type": "code",
   "execution_count": null,
   "metadata": {
    "collapsed": true
   },
   "outputs": [],
   "source": []
  }
 ],
 "metadata": {
  "anaconda-cloud": {},
  "kernelspec": {
   "display_name": "Python [default]",
   "language": "python",
   "name": "python2"
  },
  "language_info": {
   "codemirror_mode": {
    "name": "ipython",
    "version": 2
   },
   "file_extension": ".py",
   "mimetype": "text/x-python",
   "name": "python",
   "nbconvert_exporter": "python",
   "pygments_lexer": "ipython2",
   "version": "2.7.12"
  }
 },
 "nbformat": 4,
 "nbformat_minor": 1
}
