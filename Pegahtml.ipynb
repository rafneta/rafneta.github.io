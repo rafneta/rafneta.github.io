{
 "cells": [
  {
   "cell_type": "markdown",
   "metadata": {},
   "source": [
    "# Programa para escribir archivos de libro en html"
   ]
  },
  {
   "cell_type": "code",
   "execution_count": 21,
   "metadata": {
    "collapsed": true
   },
   "outputs": [],
   "source": [
    "identificador1=open(\"prefacio.html\",\"r\")\n",
    "identificador2=open(\"DefyClas.html\",\"r\")\n",
    "identificador3=open(\"SeTiemCont.html\",\"r\")\n",
    "identificador4=open(\"OperSeCon.html\",\"r\")\n",
    "identificador5=open(\"OpeSeDis.html\",\"r\")\n",
    "identificador6=open(\"MasDef.html\",\"r\")\n",
    "identificador7=open(\"SeTieConBa.html\",\"r\")\n",
    "\n",
    "\n",
    "modificar=open(\"ci.html\",\"r\")\n",
    "nuevo=open(\"nuevo.html\",\"w\")\n",
    "\n",
    "\n",
    "adjuntar1=identificador1.read()\n",
    "adjuntar2=identificador2.read()\n",
    "adjuntar3=identificador3.read()\n",
    "adjuntar4=identificador4.read()\n",
    "adjuntar5=identificador5.read()\n",
    "adjuntar6=identificador6.read()\n",
    "adjuntar7=identificador7.read()\n",
    "\n",
    "\n",
    "\n",
    "for line in modificar:\n",
    "    valor=line.split()\n",
    "    if \"identificador1\" in valor:\n",
    "        nuevo.write(adjuntar1)\n",
    "        continue\n",
    "        \n",
    "    if \"identificador2\" in valor:\n",
    "        nuevo.write(adjuntar2)\n",
    "        continue\n",
    "        \n",
    "    if \"identificador3\" in valor:\n",
    "        nuevo.write(adjuntar3)\n",
    "        continue\n",
    "    if \"identificador4\" in valor:\n",
    "        nuevo.write(adjuntar4)\n",
    "        continue\n",
    "    if \"identificador5\" in valor:\n",
    "        nuevo.write(adjuntar5)\n",
    "        continue\n",
    "    \n",
    "    if \"identificador6\" in valor:\n",
    "        nuevo.write(adjuntar6)\n",
    "        continue\n",
    "        \n",
    "    if \"identificador7\" in valor:\n",
    "        nuevo.write(adjuntar7)\n",
    "        continue\n",
    "    \n",
    "    nuevo.write(line)\n",
    "        \n",
    "\n",
    "identificador1.close()\n",
    "identificador2.close()\n",
    "identificador3.close()\n",
    "identificador4.close()\n",
    "identificador5.close()\n",
    "identificador6.close()\n",
    "identificador7.close()\n",
    "\n",
    "\n",
    "modificar.close()\n",
    "nuevo.close()"
   ]
  },
  {
   "cell_type": "code",
   "execution_count": null,
   "metadata": {
    "collapsed": true
   },
   "outputs": [],
   "source": []
  },
  {
   "cell_type": "code",
   "execution_count": null,
   "metadata": {
    "collapsed": true
   },
   "outputs": [],
   "source": []
  }
 ],
 "metadata": {
  "anaconda-cloud": {},
  "kernelspec": {
   "display_name": "Python [default]",
   "language": "python",
   "name": "python2"
  },
  "language_info": {
   "codemirror_mode": {
    "name": "ipython",
    "version": 2
   },
   "file_extension": ".py",
   "mimetype": "text/x-python",
   "name": "python",
   "nbconvert_exporter": "python",
   "pygments_lexer": "ipython2",
   "version": "2.7.12"
  }
 },
 "nbformat": 4,
 "nbformat_minor": 1
}
